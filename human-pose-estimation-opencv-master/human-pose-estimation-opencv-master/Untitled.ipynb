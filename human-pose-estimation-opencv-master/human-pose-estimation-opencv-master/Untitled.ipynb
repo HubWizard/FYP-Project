{
 "cells": [
  {
   "cell_type": "code",
   "execution_count": 1,
   "id": "917f41c4",
   "metadata": {},
   "outputs": [
    {
     "name": "stderr",
     "output_type": "stream",
     "text": [
      "usage: ipykernel_launcher.py [-h] [--input INPUT] [--thr THR] [--width WIDTH]\n",
      "                             [--height HEIGHT]\n",
      "ipykernel_launcher.py: error: unrecognized arguments: -f C:\\Users\\asdf\\AppData\\Roaming\\jupyter\\runtime\\kernel-e6eb4e3d-dd6f-4c19-8dbe-a8e135ccecc4.json\n"
     ]
    },
    {
     "ename": "SystemExit",
     "evalue": "2",
     "output_type": "error",
     "traceback": [
      "An exception has occurred, use %tb to see the full traceback.\n",
      "\u001b[1;31mSystemExit\u001b[0m\u001b[1;31m:\u001b[0m 2\n"
     ]
    },
    {
     "name": "stderr",
     "output_type": "stream",
     "text": [
      "C:\\Users\\asdf\\anaconda3\\lib\\site-packages\\IPython\\core\\interactiveshell.py:3377: UserWarning: To exit: use 'exit', 'quit', or Ctrl-D.\n",
      "  warn(\"To exit: use 'exit', 'quit', or Ctrl-D.\", stacklevel=1)\n"
     ]
    }
   ],
   "source": [
    "import cv2\n",
    "import numpy as np\n",
    "\n",
    "# Load Haar cascade file for eye detection\n",
    "eye_cascade = cv2.CascadeClassifier('haarcascade_eye.xml')\n",
    "\n",
    "# Start video capture\n",
    "cap = cv2.VideoCapture(0)\n",
    "\n",
    "while True:\n",
    "    ret, frame = cap.read()\n",
    "    gray = cv2.cvtColor(frame, cv2.COLOR_BGR2GRAY)\n",
    "    \n",
    "    # Detect eyes\n",
    "    eyes = eye_cascade.detectMultiScale(gray, 1.3, 5)\n",
    "    \n",
    "    for (x,y,w,h) in eyes:\n",
    "        # Draw a rectangle around the eye\n",
    "        cv2.rectangle(frame, (x,y), (x+w, y+h), (255,0,0), 2)\n",
    "        \n",
    "        # Crop the eye region\n",
    "        eye_region = gray[y:y+h, x:x+w]\n",
    "        \n",
    "        # Detect iris using HoughCircles method\n",
    "        circles = cv2.HoughCircles(eye_region, cv2.HOUGH_GRADIENT, 1, 20, param1=50, param2=30, minRadius=0, maxRadius=0)\n",
    "        \n",
    "        # Convert the (x, y) coordinates and radius of the circles to integers\n",
    "        circles = np.round(circles[0, :]).astype(\"int\")\n",
    "        \n",
    "        for (x, y, r) in circles:\n",
    "            # Draw the circle in the output image\n",
    "            cv2.circle(frame, (x, y), r, (0, 255, 0), 2)\n",
    "            # Draw a rectangle around iris\n",
    "            cv2.rectangle(frame, (x-r,y-r), (x+r, y+r), (0,0,255), 2)\n",
    "    \n",
    "    # Display the output frame\n",
    "    cv2.imshow('Eye Detection and Tracking', frame)\n",
    "    if cv2.waitKey(1) & 0xFF == ord('q'):\n",
    "        break\n",
    "\n",
    "# Release the video capture object\n",
    "cap.release()\n",
    "\n",
    "# Close all windows\n",
    "cv2.destroyAllWindows()\n"
   ]
  },
  {
   "cell_type": "code",
   "execution_count": null,
   "id": "b9022d36",
   "metadata": {},
   "outputs": [],
   "source": []
  }
 ],
 "metadata": {
  "kernelspec": {
   "display_name": "Python 3 (ipykernel)",
   "language": "python",
   "name": "python3"
  },
  "language_info": {
   "codemirror_mode": {
    "name": "ipython",
    "version": 3
   },
   "file_extension": ".py",
   "mimetype": "text/x-python",
   "name": "python",
   "nbconvert_exporter": "python",
   "pygments_lexer": "ipython3",
   "version": "3.9.12"
  }
 },
 "nbformat": 4,
 "nbformat_minor": 5
}
